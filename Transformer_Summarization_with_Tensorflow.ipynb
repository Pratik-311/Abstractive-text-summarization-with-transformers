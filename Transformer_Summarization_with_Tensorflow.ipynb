{
  "cells": [
    {
      "cell_type": "code",
      "execution_count": null,
      "id": "OS5Fh-4lf3A-",
      "metadata": {
        "colab": {
          "base_uri": "https://localhost:8080/"
        },
        "id": "OS5Fh-4lf3A-",
        "outputId": "efffea87-9f3e-4865-de9d-937192468849"
      },
      "outputs": [
        {
          "name": "stdout",
          "output_type": "stream",
          "text": [
            "Tue Jul 19 15:32:00 2022       \n",
            "+-----------------------------------------------------------------------------+\n",
            "| NVIDIA-SMI 460.32.03    Driver Version: 460.32.03    CUDA Version: 11.2     |\n",
            "|-------------------------------+----------------------+----------------------+\n",
            "| GPU  Name        Persistence-M| Bus-Id        Disp.A | Volatile Uncorr. ECC |\n",
            "| Fan  Temp  Perf  Pwr:Usage/Cap|         Memory-Usage | GPU-Util  Compute M. |\n",
            "|                               |                      |               MIG M. |\n",
            "|===============================+======================+======================|\n",
            "|   0  Tesla T4            Off  | 00000000:00:04.0 Off |                    0 |\n",
            "| N/A   38C    P8     9W /  70W |      0MiB / 15109MiB |      0%      Default |\n",
            "|                               |                      |                  N/A |\n",
            "+-------------------------------+----------------------+----------------------+\n",
            "                                                                               \n",
            "+-----------------------------------------------------------------------------+\n",
            "| Processes:                                                                  |\n",
            "|  GPU   GI   CI        PID   Type   Process name                  GPU Memory |\n",
            "|        ID   ID                                                   Usage      |\n",
            "|=============================================================================|\n",
            "|  No running processes found                                                 |\n",
            "+-----------------------------------------------------------------------------+\n"
          ]
        }
      ],
      "source": [
        " !nvidia-smi"
      ]
    },
    {
      "cell_type": "markdown",
      "id": "geographic-fourth",
      "metadata": {
        "id": "geographic-fourth",
        "papermill": {
          "duration": 0.02738,
          "end_time": "2021-06-13T12:48:18.286134",
          "exception": false,
          "start_time": "2021-06-13T12:48:18.258754",
          "status": "completed"
        },
        "tags": []
      },
      "source": [
        "# Installing Packages needed and Importing Libraries"
      ]
    },
    {
      "cell_type": "code",
      "execution_count": null,
      "id": "classical-spyware",
      "metadata": {
        "execution": {
          "iopub.execute_input": "2021-06-13T12:48:18.360671Z",
          "iopub.status.busy": "2021-06-13T12:48:18.350120Z",
          "iopub.status.idle": "2021-06-13T12:48:26.397361Z",
          "shell.execute_reply": "2021-06-13T12:48:26.396761Z",
          "shell.execute_reply.started": "2021-06-13T11:49:50.690326Z"
        },
        "id": "classical-spyware",
        "papermill": {
          "duration": 8.084105,
          "end_time": "2021-06-13T12:48:26.397497",
          "exception": false,
          "start_time": "2021-06-13T12:48:18.313392",
          "status": "completed"
        },
        "tags": []
      },
      "outputs": [],
      "source": [
        "!pip install openpyxl  --quiet"
      ]
    },
    {
      "cell_type": "code",
      "execution_count": null,
      "id": "going-lotus",
      "metadata": {
        "execution": {
          "iopub.execute_input": "2021-06-13T12:48:26.458131Z",
          "iopub.status.busy": "2021-06-13T12:48:26.457384Z",
          "iopub.status.idle": "2021-06-13T12:48:31.451218Z",
          "shell.execute_reply": "2021-06-13T12:48:31.450303Z",
          "shell.execute_reply.started": "2021-06-13T11:49:57.938188Z"
        },
        "id": "going-lotus",
        "papermill": {
          "duration": 5.026232,
          "end_time": "2021-06-13T12:48:31.451366",
          "exception": false,
          "start_time": "2021-06-13T12:48:26.425134",
          "status": "completed"
        },
        "tags": []
      },
      "outputs": [],
      "source": [
        "import numpy as np\n",
        "import matplotlib.pyplot as plt\n",
        "import seaborn as sns\n",
        "import pandas as pd\n",
        "from collections import defaultdict\n",
        "import string\n",
        "import tensorflow as tf\n",
        "import re\n",
        "import os\n",
        "import time\n",
        "from tensorflow import keras\n",
        "from tensorflow.keras.layers import Dense, Input\n",
        "from tensorflow.keras.optimizers import Adam\n",
        "from tensorflow.keras.models import Model\n",
        "from tensorflow.keras.callbacks import ModelCheckpoint\n",
        "from sklearn.preprocessing import OneHotEncoder\n",
        "from sklearn.model_selection import train_test_split"
      ]
    },
    {
      "cell_type": "code",
      "execution_count": null,
      "id": "fundamental-huntington",
      "metadata": {
        "execution": {
          "iopub.execute_input": "2021-06-13T12:48:31.513505Z",
          "iopub.status.busy": "2021-06-13T12:48:31.512639Z",
          "iopub.status.idle": "2021-06-13T12:48:31.515313Z",
          "shell.execute_reply": "2021-06-13T12:48:31.514854Z",
          "shell.execute_reply.started": "2021-06-13T11:50:03.399228Z"
        },
        "id": "fundamental-huntington",
        "papermill": {
          "duration": 0.034609,
          "end_time": "2021-06-13T12:48:31.515416",
          "exception": false,
          "start_time": "2021-06-13T12:48:31.480807",
          "status": "completed"
        },
        "tags": []
      },
      "outputs": [],
      "source": [
        "BATCH_SIZE = 64\n",
        "BUFFER_SIZE = BATCH_SIZE*8"
      ]
    },
    {
      "cell_type": "code",
      "execution_count": null,
      "id": "waoTQeNEkcey",
      "metadata": {
        "colab": {
          "base_uri": "https://localhost:8080/"
        },
        "id": "waoTQeNEkcey",
        "outputId": "d7805b1f-00e5-4329-cb7e-365cc08b05bb"
      },
      "outputs": [
        {
          "name": "stdout",
          "output_type": "stream",
          "text": [
            "Mounted at /content/drive\n"
          ]
        }
      ],
      "source": [
        "from google.colab import drive\n",
        "drive.mount('/content/drive')"
      ]
    },
    {
      "cell_type": "markdown",
      "id": "addressed-tribute",
      "metadata": {
        "id": "addressed-tribute",
        "papermill": {
          "duration": 0.02724,
          "end_time": "2021-06-13T12:48:31.570192",
          "exception": false,
          "start_time": "2021-06-13T12:48:31.542952",
          "status": "completed"
        },
        "tags": []
      },
      "source": [
        "# Dataset\n"
      ]
    },
    {
      "cell_type": "markdown",
      "id": "d6F5hWMPCxCK",
      "metadata": {
        "id": "d6F5hWMPCxCK"
      },
      "source": [
        "Loading, Preprocessing and Tokenization"
      ]
    },
    {
      "cell_type": "code",
      "execution_count": null,
      "id": "MXOh-zEQjUN0",
      "metadata": {
        "colab": {
          "base_uri": "https://localhost:8080/"
        },
        "id": "MXOh-zEQjUN0",
        "outputId": "32578a3c-c61f-4be1-f138-bca62d77f3cf"
      },
      "outputs": [
        {
          "name": "stdout",
          "output_type": "stream",
          "text": [
            "Archive:  /content/drive/MyDrive/datasci/datasets/inshorts_archive.zip\n",
            "  inflating: Inshorts Cleaned Data.xlsx  \n"
          ]
        }
      ],
      "source": [
        "!unzip /content/drive/MyDrive/datasci/datasets/inshorts_archive.zip"
      ]
    },
    {
      "cell_type": "code",
      "execution_count": null,
      "id": "geographic-freedom",
      "metadata": {
        "colab": {
          "base_uri": "https://localhost:8080/",
          "height": 206
        },
        "execution": {
          "iopub.execute_input": "2021-06-13T12:48:31.629500Z",
          "iopub.status.busy": "2021-06-13T12:48:31.628641Z",
          "iopub.status.idle": "2021-06-13T12:48:40.213519Z",
          "shell.execute_reply": "2021-06-13T12:48:40.213085Z",
          "shell.execute_reply.started": "2021-06-13T11:50:03.407363Z"
        },
        "id": "geographic-freedom",
        "outputId": "3abc32a5-339a-42f8-b7b4-69abc8b40048",
        "papermill": {
          "duration": 8.615832,
          "end_time": "2021-06-13T12:48:40.213641",
          "exception": false,
          "start_time": "2021-06-13T12:48:31.597809",
          "status": "completed"
        },
        "tags": []
      },
      "outputs": [
        {
          "data": {
            "text/html": [
              "\n",
              "  <div id=\"df-df02f92e-8fde-4cdb-92c3-f2cf26ea48fd\">\n",
              "    <div class=\"colab-df-container\">\n",
              "      <div>\n",
              "<style scoped>\n",
              "    .dataframe tbody tr th:only-of-type {\n",
              "        vertical-align: middle;\n",
              "    }\n",
              "\n",
              "    .dataframe tbody tr th {\n",
              "        vertical-align: top;\n",
              "    }\n",
              "\n",
              "    .dataframe thead th {\n",
              "        text-align: right;\n",
              "    }\n",
              "</style>\n",
              "<table border=\"1\" class=\"dataframe\">\n",
              "  <thead>\n",
              "    <tr style=\"text-align: right;\">\n",
              "      <th></th>\n",
              "      <th>Headline</th>\n",
              "      <th>Short</th>\n",
              "    </tr>\n",
              "  </thead>\n",
              "  <tbody>\n",
              "    <tr>\n",
              "      <th>0</th>\n",
              "      <td>4 ex-bank officials booked for cheating bank o...</td>\n",
              "      <td>The CBI on Saturday booked four former officia...</td>\n",
              "    </tr>\n",
              "    <tr>\n",
              "      <th>1</th>\n",
              "      <td>Supreme Court to go paperless in 6 months: CJI</td>\n",
              "      <td>Chief Justice JS Khehar has said the Supreme C...</td>\n",
              "    </tr>\n",
              "    <tr>\n",
              "      <th>2</th>\n",
              "      <td>At least 3 killed, 30 injured in blast in Sylh...</td>\n",
              "      <td>At least three people were killed, including a...</td>\n",
              "    </tr>\n",
              "    <tr>\n",
              "      <th>3</th>\n",
              "      <td>Why has Reliance been barred from trading in f...</td>\n",
              "      <td>Mukesh Ambani-led Reliance Industries (RIL) wa...</td>\n",
              "    </tr>\n",
              "    <tr>\n",
              "      <th>4</th>\n",
              "      <td>Was stopped from entering my own studio at Tim...</td>\n",
              "      <td>TV news anchor Arnab Goswami has said he was t...</td>\n",
              "    </tr>\n",
              "  </tbody>\n",
              "</table>\n",
              "</div>\n",
              "      <button class=\"colab-df-convert\" onclick=\"convertToInteractive('df-df02f92e-8fde-4cdb-92c3-f2cf26ea48fd')\"\n",
              "              title=\"Convert this dataframe to an interactive table.\"\n",
              "              style=\"display:none;\">\n",
              "        \n",
              "  <svg xmlns=\"http://www.w3.org/2000/svg\" height=\"24px\"viewBox=\"0 0 24 24\"\n",
              "       width=\"24px\">\n",
              "    <path d=\"M0 0h24v24H0V0z\" fill=\"none\"/>\n",
              "    <path d=\"M18.56 5.44l.94 2.06.94-2.06 2.06-.94-2.06-.94-.94-2.06-.94 2.06-2.06.94zm-11 1L8.5 8.5l.94-2.06 2.06-.94-2.06-.94L8.5 2.5l-.94 2.06-2.06.94zm10 10l.94 2.06.94-2.06 2.06-.94-2.06-.94-.94-2.06-.94 2.06-2.06.94z\"/><path d=\"M17.41 7.96l-1.37-1.37c-.4-.4-.92-.59-1.43-.59-.52 0-1.04.2-1.43.59L10.3 9.45l-7.72 7.72c-.78.78-.78 2.05 0 2.83L4 21.41c.39.39.9.59 1.41.59.51 0 1.02-.2 1.41-.59l7.78-7.78 2.81-2.81c.8-.78.8-2.07 0-2.86zM5.41 20L4 18.59l7.72-7.72 1.47 1.35L5.41 20z\"/>\n",
              "  </svg>\n",
              "      </button>\n",
              "      \n",
              "  <style>\n",
              "    .colab-df-container {\n",
              "      display:flex;\n",
              "      flex-wrap:wrap;\n",
              "      gap: 12px;\n",
              "    }\n",
              "\n",
              "    .colab-df-convert {\n",
              "      background-color: #E8F0FE;\n",
              "      border: none;\n",
              "      border-radius: 50%;\n",
              "      cursor: pointer;\n",
              "      display: none;\n",
              "      fill: #1967D2;\n",
              "      height: 32px;\n",
              "      padding: 0 0 0 0;\n",
              "      width: 32px;\n",
              "    }\n",
              "\n",
              "    .colab-df-convert:hover {\n",
              "      background-color: #E2EBFA;\n",
              "      box-shadow: 0px 1px 2px rgba(60, 64, 67, 0.3), 0px 1px 3px 1px rgba(60, 64, 67, 0.15);\n",
              "      fill: #174EA6;\n",
              "    }\n",
              "\n",
              "    [theme=dark] .colab-df-convert {\n",
              "      background-color: #3B4455;\n",
              "      fill: #D2E3FC;\n",
              "    }\n",
              "\n",
              "    [theme=dark] .colab-df-convert:hover {\n",
              "      background-color: #434B5C;\n",
              "      box-shadow: 0px 1px 3px 1px rgba(0, 0, 0, 0.15);\n",
              "      filter: drop-shadow(0px 1px 2px rgba(0, 0, 0, 0.3));\n",
              "      fill: #FFFFFF;\n",
              "    }\n",
              "  </style>\n",
              "\n",
              "      <script>\n",
              "        const buttonEl =\n",
              "          document.querySelector('#df-df02f92e-8fde-4cdb-92c3-f2cf26ea48fd button.colab-df-convert');\n",
              "        buttonEl.style.display =\n",
              "          google.colab.kernel.accessAllowed ? 'block' : 'none';\n",
              "\n",
              "        async function convertToInteractive(key) {\n",
              "          const element = document.querySelector('#df-df02f92e-8fde-4cdb-92c3-f2cf26ea48fd');\n",
              "          const dataTable =\n",
              "            await google.colab.kernel.invokeFunction('convertToInteractive',\n",
              "                                                     [key], {});\n",
              "          if (!dataTable) return;\n",
              "\n",
              "          const docLinkHtml = 'Like what you see? Visit the ' +\n",
              "            '<a target=\"_blank\" href=https://colab.research.google.com/notebooks/data_table.ipynb>data table notebook</a>'\n",
              "            + ' to learn more about interactive tables.';\n",
              "          element.innerHTML = '';\n",
              "          dataTable['output_type'] = 'display_data';\n",
              "          await google.colab.output.renderOutput(dataTable, element);\n",
              "          const docLink = document.createElement('div');\n",
              "          docLink.innerHTML = docLinkHtml;\n",
              "          element.appendChild(docLink);\n",
              "        }\n",
              "      </script>\n",
              "    </div>\n",
              "  </div>\n",
              "  "
            ],
            "text/plain": [
              "                                            Headline  \\\n",
              "0  4 ex-bank officials booked for cheating bank o...   \n",
              "1     Supreme Court to go paperless in 6 months: CJI   \n",
              "2  At least 3 killed, 30 injured in blast in Sylh...   \n",
              "3  Why has Reliance been barred from trading in f...   \n",
              "4  Was stopped from entering my own studio at Tim...   \n",
              "\n",
              "                                               Short  \n",
              "0  The CBI on Saturday booked four former officia...  \n",
              "1  Chief Justice JS Khehar has said the Supreme C...  \n",
              "2  At least three people were killed, including a...  \n",
              "3  Mukesh Ambani-led Reliance Industries (RIL) wa...  \n",
              "4  TV news anchor Arnab Goswami has said he was t...  "
            ]
          },
          "execution_count": 7,
          "metadata": {},
          "output_type": "execute_result"
        }
      ],
      "source": [
        "news = pd.read_excel(\"/content/Inshorts Cleaned Data.xlsx\",engine = 'openpyxl')\n",
        "news.drop(['Source ', 'Time ', 'Publish Date'], axis=1, inplace=True)\n",
        "news.head()"
      ]
    },
    {
      "cell_type": "code",
      "execution_count": null,
      "id": "verbal-world",
      "metadata": {
        "execution": {
          "iopub.execute_input": "2021-06-13T12:48:40.285066Z",
          "iopub.status.busy": "2021-06-13T12:48:40.274654Z",
          "iopub.status.idle": "2021-06-13T12:48:40.343856Z",
          "shell.execute_reply": "2021-06-13T12:48:40.343389Z",
          "shell.execute_reply.started": "2021-06-13T11:50:12.186664Z"
        },
        "id": "verbal-world",
        "papermill": {
          "duration": 0.101908,
          "end_time": "2021-06-13T12:48:40.343983",
          "exception": false,
          "start_time": "2021-06-13T12:48:40.242075",
          "status": "completed"
        },
        "tags": []
      },
      "outputs": [],
      "source": [
        "article = news['Short']\n",
        "summary = news['Headline']\n",
        "article = article.apply(lambda x: '<SOS> ' + x + ' <EOS>')\n",
        "summary = summary.apply(lambda x: '<SOS> ' + x + ' <EOS>')"
      ]
    },
    {
      "cell_type": "code",
      "execution_count": null,
      "id": "looking-plymouth",
      "metadata": {
        "execution": {
          "iopub.execute_input": "2021-06-13T12:48:40.404860Z",
          "iopub.status.busy": "2021-06-13T12:48:40.404046Z",
          "iopub.status.idle": "2021-06-13T12:48:40.650622Z",
          "shell.execute_reply": "2021-06-13T12:48:40.650158Z",
          "shell.execute_reply.started": "2021-06-13T11:50:12.258025Z"
        },
        "id": "looking-plymouth",
        "papermill": {
          "duration": 0.278325,
          "end_time": "2021-06-13T12:48:40.650769",
          "exception": false,
          "start_time": "2021-06-13T12:48:40.372444",
          "status": "completed"
        },
        "tags": []
      },
      "outputs": [],
      "source": [
        "def preprocess(text):\n",
        "    text = re.sub(r\"&.[1-9]+;\",\" \",text)\n",
        "    return text\n",
        "article = article.apply(lambda x: preprocess(x))\n",
        "summary = summary.apply(lambda x: preprocess(x))"
      ]
    },
    {
      "cell_type": "code",
      "execution_count": null,
      "id": "played-sudan",
      "metadata": {
        "execution": {
          "iopub.execute_input": "2021-06-13T12:48:40.735064Z",
          "iopub.status.busy": "2021-06-13T12:48:40.729949Z",
          "iopub.status.idle": "2021-06-13T12:48:48.353025Z",
          "shell.execute_reply": "2021-06-13T12:48:48.352234Z",
          "shell.execute_reply.started": "2021-06-13T11:50:12.504246Z"
        },
        "id": "played-sudan",
        "papermill": {
          "duration": 7.674074,
          "end_time": "2021-06-13T12:48:48.353177",
          "exception": false,
          "start_time": "2021-06-13T12:48:40.679103",
          "status": "completed"
        },
        "tags": []
      },
      "outputs": [],
      "source": [
        "filters = '!\"#$%&()*+,-./:;=?@[\\\\]^_`{|}~\\t\\n'\n",
        "oov_token = '<unk>'\n",
        "article_tokenizer = tf.keras.preprocessing.text.Tokenizer(oov_token=oov_token)\n",
        "summary_tokenizer = tf.keras.preprocessing.text.Tokenizer(filters=filters, oov_token=oov_token)\n",
        "article_tokenizer.fit_on_texts(article)\n",
        "summary_tokenizer.fit_on_texts(summary)\n",
        "inputs = article_tokenizer.texts_to_sequences(article)\n",
        "targets = summary_tokenizer.texts_to_sequences(summary)"
      ]
    },
    {
      "cell_type": "code",
      "execution_count": null,
      "id": "nominated-dover",
      "metadata": {
        "colab": {
          "base_uri": "https://localhost:8080/"
        },
        "execution": {
          "iopub.execute_input": "2021-06-13T12:48:48.415000Z",
          "iopub.status.busy": "2021-06-13T12:48:48.413720Z",
          "iopub.status.idle": "2021-06-13T12:48:48.417935Z",
          "shell.execute_reply": "2021-06-13T12:48:48.417337Z",
          "shell.execute_reply.started": "2021-06-13T11:50:19.886438Z"
        },
        "id": "nominated-dover",
        "outputId": "ee243b4c-4534-4417-dc1f-142b47d91051",
        "papermill": {
          "duration": 0.036431,
          "end_time": "2021-06-13T12:48:48.418079",
          "exception": false,
          "start_time": "2021-06-13T12:48:48.381648",
          "status": "completed"
        },
        "tags": []
      },
      "outputs": [
        {
          "name": "stdout",
          "output_type": "stream",
          "text": [
            "76362 29661\n"
          ]
        }
      ],
      "source": [
        "ENCODER_VOCAB = len(article_tokenizer.word_index) + 1\n",
        "DECODER_VOCAB = len(summary_tokenizer.word_index) + 1\n",
        "print(ENCODER_VOCAB, DECODER_VOCAB)"
      ]
    },
    {
      "cell_type": "markdown",
      "id": "mZden_q9_eZr",
      "metadata": {
        "id": "mZden_q9_eZr"
      },
      "source": [
        "Obtaining insights on lengths for defining maxlen"
      ]
    },
    {
      "cell_type": "code",
      "execution_count": null,
      "id": "ma4o2nGdK5Xb",
      "metadata": {
        "id": "ma4o2nGdK5Xb"
      },
      "outputs": [],
      "source": [
        "article_lengths = pd.Series([len(x) for x in article])\n",
        "summary_lengths = pd.Series([len(x) for x in summary])"
      ]
    },
    {
      "cell_type": "code",
      "execution_count": null,
      "id": "iXZlO99C-UXK",
      "metadata": {
        "colab": {
          "base_uri": "https://localhost:8080/"
        },
        "id": "iXZlO99C-UXK",
        "outputId": "d667485b-cbaa-4a30-9eb2-af66aab8c4f9"
      },
      "outputs": [
        {
          "data": {
            "text/plain": [
              "count    55104.000000\n",
              "mean       371.033028\n",
              "std         24.085839\n",
              "min        292.000000\n",
              "25%        355.000000\n",
              "50%        372.000000\n",
              "75%        389.000000\n",
              "max        436.000000\n",
              "dtype: float64"
            ]
          },
          "execution_count": 15,
          "metadata": {},
          "output_type": "execute_result"
        }
      ],
      "source": [
        "article_lengths.describe()"
      ]
    },
    {
      "cell_type": "code",
      "execution_count": null,
      "id": "ALMwKMx--ZF7",
      "metadata": {
        "colab": {
          "base_uri": "https://localhost:8080/"
        },
        "id": "ALMwKMx--ZF7",
        "outputId": "ed4a1672-a494-4c55-ca7c-7d9a51ea801d"
      },
      "outputs": [
        {
          "data": {
            "text/plain": [
              "count    55104.000000\n",
              "mean        61.997532\n",
              "std          6.448361\n",
              "min         20.000000\n",
              "25%         58.000000\n",
              "50%         60.000000\n",
              "75%         68.000000\n",
              "max         80.000000\n",
              "dtype: float64"
            ]
          },
          "execution_count": 16,
          "metadata": {},
          "output_type": "execute_result"
        }
      ],
      "source": [
        "summary_lengths.describe()"
      ]
    },
    {
      "cell_type": "code",
      "execution_count": null,
      "id": "cVeMilXr-bpC",
      "metadata": {
        "id": "cVeMilXr-bpC"
      },
      "outputs": [],
      "source": [
        "# maxlen\n",
        "# taking values > and round figured to 75th percentile\n",
        "# at the same time not leaving high variance\n",
        "ENCODER_LEN = 400\n",
        "DECODER_LEN = 75"
      ]
    },
    {
      "cell_type": "markdown",
      "id": "H0cHVQA_DEzV",
      "metadata": {
        "id": "H0cHVQA_DEzV"
      },
      "source": [
        "Padding for same lenghts and Dataset pipeline"
      ]
    },
    {
      "cell_type": "code",
      "execution_count": null,
      "id": "verbal-institution",
      "metadata": {
        "execution": {
          "iopub.execute_input": "2021-06-13T12:48:48.486616Z",
          "iopub.status.busy": "2021-06-13T12:48:48.481954Z",
          "iopub.status.idle": "2021-06-13T12:48:51.604639Z",
          "shell.execute_reply": "2021-06-13T12:48:51.604171Z",
          "shell.execute_reply.started": "2021-06-13T11:50:19.895906Z"
        },
        "id": "verbal-institution",
        "papermill": {
          "duration": 3.157907,
          "end_time": "2021-06-13T12:48:51.604782",
          "exception": false,
          "start_time": "2021-06-13T12:48:48.446875",
          "status": "completed"
        },
        "tags": []
      },
      "outputs": [],
      "source": [
        "inputs = tf.keras.preprocessing.sequence.pad_sequences(inputs, maxlen=ENCODER_LEN, padding='post', truncating='post')\n",
        "targets = tf.keras.preprocessing.sequence.pad_sequences(targets, maxlen=DECODER_LEN, padding='post', truncating='post')\n",
        "inputs = tf.cast(inputs, dtype=tf.int64)\n",
        "targets = tf.cast(targets, dtype=tf.int64)"
      ]
    },
    {
      "cell_type": "code",
      "execution_count": null,
      "id": "invalid-terminal",
      "metadata": {
        "execution": {
          "iopub.execute_input": "2021-06-13T12:48:51.666531Z",
          "iopub.status.busy": "2021-06-13T12:48:51.665952Z",
          "iopub.status.idle": "2021-06-13T12:48:51.715403Z",
          "shell.execute_reply": "2021-06-13T12:48:51.715806Z",
          "shell.execute_reply.started": "2021-06-13T11:50:23.127282Z"
        },
        "id": "invalid-terminal",
        "papermill": {
          "duration": 0.082781,
          "end_time": "2021-06-13T12:48:51.715943",
          "exception": false,
          "start_time": "2021-06-13T12:48:51.633162",
          "status": "completed"
        },
        "tags": []
      },
      "outputs": [],
      "source": [
        "dataset = tf.data.Dataset.from_tensor_slices((inputs, targets)).shuffle(BUFFER_SIZE).batch(BATCH_SIZE)"
      ]
    },
    {
      "cell_type": "markdown",
      "id": "static-desert",
      "metadata": {
        "id": "static-desert",
        "papermill": {
          "duration": 0.027866,
          "end_time": "2021-06-13T12:48:51.772032",
          "exception": false,
          "start_time": "2021-06-13T12:48:51.744166",
          "status": "completed"
        },
        "tags": []
      },
      "source": [
        "# Transformer Model"
      ]
    },
    {
      "cell_type": "code",
      "execution_count": null,
      "id": "electoral-potential",
      "metadata": {
        "execution": {
          "iopub.execute_input": "2021-06-13T12:48:51.838064Z",
          "iopub.status.busy": "2021-06-13T12:48:51.837424Z",
          "iopub.status.idle": "2021-06-13T12:48:51.841042Z",
          "shell.execute_reply": "2021-06-13T12:48:51.840581Z",
          "shell.execute_reply.started": "2021-06-13T11:50:23.185968Z"
        },
        "id": "electoral-potential",
        "papermill": {
          "duration": 0.041142,
          "end_time": "2021-06-13T12:48:51.841148",
          "exception": false,
          "start_time": "2021-06-13T12:48:51.800006",
          "status": "completed"
        },
        "tags": []
      },
      "outputs": [],
      "source": [
        "def get_angles(position, i, d_model):\n",
        "    angle_rates = 1 / np.power(10000, (2 * (i // 2)) / np.float32(d_model))\n",
        "    return position * angle_rates\n",
        "\n",
        "def positional_encoding(position, d_model):\n",
        "    angle_rads = get_angles(\n",
        "        np.arange(position)[:, np.newaxis],\n",
        "        np.arange(d_model)[np.newaxis, :],\n",
        "        d_model\n",
        "    )\n",
        "\n",
        "    angle_rads[:, 0::2] = np.sin(angle_rads[:, 0::2])\n",
        "\n",
        "    angle_rads[:, 1::2] = np.cos(angle_rads[:, 1::2])\n",
        "\n",
        "    pos_encoding = angle_rads[np.newaxis, ...]\n",
        "\n",
        "    return tf.cast(pos_encoding, dtype=tf.float32)\n",
        "\n",
        "def create_padding_mask(seq):\n",
        "    seq = tf.cast(tf.math.equal(seq, 0), tf.float32)\n",
        "    return seq[:, tf.newaxis, tf.newaxis, :]\n",
        "\n",
        "def create_look_ahead_mask(size):\n",
        "    mask = 1 - tf.linalg.band_part(tf.ones((size, size)), -1, 0)\n",
        "    return mask\n",
        "\n",
        "def scaled_dot_product_attention(q, k, v, mask):\n",
        "    matmul_qk = tf.matmul(q, k, transpose_b=True)\n",
        "\n",
        "    dk = tf.cast(tf.shape(k)[-1], tf.float32)\n",
        "    scaled_attention_logits = matmul_qk / tf.math.sqrt(dk)\n",
        "\n",
        "    if mask is not None:\n",
        "        scaled_attention_logits += (mask * -1e9)  \n",
        "\n",
        "    attention_weights = tf.nn.softmax(scaled_attention_logits, axis=-1)\n",
        "\n",
        "    output = tf.matmul(attention_weights, v)\n",
        "    return output, attention_weights\n"
      ]
    },
    {
      "cell_type": "code",
      "execution_count": null,
      "id": "wanted-render",
      "metadata": {
        "execution": {
          "iopub.execute_input": "2021-06-13T12:48:51.907456Z",
          "iopub.status.busy": "2021-06-13T12:48:51.906874Z",
          "iopub.status.idle": "2021-06-13T12:48:51.909892Z",
          "shell.execute_reply": "2021-06-13T12:48:51.909492Z",
          "shell.execute_reply.started": "2021-06-13T11:50:23.200558Z"
        },
        "id": "wanted-render",
        "papermill": {
          "duration": 0.040644,
          "end_time": "2021-06-13T12:48:51.909995",
          "exception": false,
          "start_time": "2021-06-13T12:48:51.869351",
          "status": "completed"
        },
        "tags": []
      },
      "outputs": [],
      "source": [
        "class MultiHeadAttention(tf.keras.layers.Layer):\n",
        "    def __init__(self, d_model, num_heads):\n",
        "        super(MultiHeadAttention, self).__init__()\n",
        "        self.num_heads = num_heads\n",
        "        self.d_model = d_model\n",
        "\n",
        "        assert d_model % self.num_heads == 0\n",
        "\n",
        "        self.depth = d_model // self.num_heads\n",
        "\n",
        "        self.wq = tf.keras.layers.Dense(d_model)\n",
        "        self.wk = tf.keras.layers.Dense(d_model)\n",
        "        self.wv = tf.keras.layers.Dense(d_model)\n",
        "\n",
        "        self.dense = tf.keras.layers.Dense(d_model)\n",
        "        \n",
        "    def split_heads(self, x, batch_size):\n",
        "        x = tf.reshape(x, (batch_size, -1, self.num_heads, self.depth))\n",
        "        return tf.transpose(x, perm=[0, 2, 1, 3])\n",
        "    \n",
        "    def call(self, v, k, q, mask):\n",
        "        batch_size = tf.shape(q)[0]\n",
        "\n",
        "        q = self.wq(q)\n",
        "        k = self.wk(k)\n",
        "        v = self.wv(v)\n",
        "\n",
        "        q = self.split_heads(q, batch_size)\n",
        "        k = self.split_heads(k, batch_size)\n",
        "        v = self.split_heads(v, batch_size)\n",
        "\n",
        "        scaled_attention, attention_weights = scaled_dot_product_attention(\n",
        "            q, k, v, mask)\n",
        "\n",
        "        scaled_attention = tf.transpose(scaled_attention, perm=[0, 2, 1, 3])\n",
        "        \n",
        "        concat_attention = tf.reshape(scaled_attention, (batch_size, -1, self.d_model))\n",
        "        output = self.dense(concat_attention)\n",
        "            \n",
        "        return output, attention_weights\n",
        "    \n",
        "def point_wise_feed_forward_network(d_model, dff):\n",
        "    return tf.keras.Sequential([\n",
        "        tf.keras.layers.Dense(dff, activation='relu'),\n",
        "        tf.keras.layers.Dense(d_model)\n",
        "    ])"
      ]
    },
    {
      "cell_type": "code",
      "execution_count": null,
      "id": "cordless-jamaica",
      "metadata": {
        "execution": {
          "iopub.execute_input": "2021-06-13T12:48:51.972934Z",
          "iopub.status.busy": "2021-06-13T12:48:51.972349Z",
          "iopub.status.idle": "2021-06-13T12:48:51.975856Z",
          "shell.execute_reply": "2021-06-13T12:48:51.975442Z",
          "shell.execute_reply.started": "2021-06-13T11:50:23.214962Z"
        },
        "id": "cordless-jamaica",
        "papermill": {
          "duration": 0.037752,
          "end_time": "2021-06-13T12:48:51.975959",
          "exception": false,
          "start_time": "2021-06-13T12:48:51.938207",
          "status": "completed"
        },
        "tags": []
      },
      "outputs": [],
      "source": [
        "class EncoderLayer(tf.keras.layers.Layer):\n",
        "    def __init__(self, d_model, num_heads, dff, rate=0.1):\n",
        "        super(EncoderLayer, self).__init__()\n",
        "\n",
        "        self.mha = MultiHeadAttention(d_model, num_heads)\n",
        "        self.ffn = point_wise_feed_forward_network(d_model, dff)\n",
        "\n",
        "        self.layernorm1 = tf.keras.layers.LayerNormalization(epsilon=1e-6)\n",
        "        self.layernorm2 = tf.keras.layers.LayerNormalization(epsilon=1e-6)\n",
        "\n",
        "        self.dropout1 = tf.keras.layers.Dropout(rate)\n",
        "        self.dropout2 = tf.keras.layers.Dropout(rate)\n",
        "    \n",
        "    def call(self, x, training, mask):\n",
        "        attn_output, _ = self.mha(x, x, x, mask)\n",
        "        attn_output = self.dropout1(attn_output, training=training)\n",
        "        out1 = self.layernorm1(x + attn_output)\n",
        "\n",
        "        ffn_output = self.ffn(out1)\n",
        "        ffn_output = self.dropout2(ffn_output, training=training)\n",
        "        out2 = self.layernorm2(out1 + ffn_output)\n",
        "\n",
        "        return out2"
      ]
    },
    {
      "cell_type": "code",
      "execution_count": null,
      "id": "respected-presentation",
      "metadata": {
        "execution": {
          "iopub.execute_input": "2021-06-13T12:48:52.040322Z",
          "iopub.status.busy": "2021-06-13T12:48:52.038859Z",
          "iopub.status.idle": "2021-06-13T12:48:52.043407Z",
          "shell.execute_reply": "2021-06-13T12:48:52.043780Z",
          "shell.execute_reply.started": "2021-06-13T11:50:23.229859Z"
        },
        "id": "respected-presentation",
        "papermill": {
          "duration": 0.040214,
          "end_time": "2021-06-13T12:48:52.043897",
          "exception": false,
          "start_time": "2021-06-13T12:48:52.003683",
          "status": "completed"
        },
        "tags": []
      },
      "outputs": [],
      "source": [
        "class DecoderLayer(tf.keras.layers.Layer):\n",
        "    def __init__(self, d_model, num_heads, dff, rate=0.1):\n",
        "        super(DecoderLayer, self).__init__()\n",
        "\n",
        "        self.mha1 = MultiHeadAttention(d_model, num_heads)\n",
        "        self.mha2 = MultiHeadAttention(d_model, num_heads)\n",
        "\n",
        "        self.ffn = point_wise_feed_forward_network(d_model, dff)\n",
        "\n",
        "        self.layernorm1 = tf.keras.layers.LayerNormalization(epsilon=1e-6)\n",
        "        self.layernorm2 = tf.keras.layers.LayerNormalization(epsilon=1e-6)\n",
        "        self.layernorm3 = tf.keras.layers.LayerNormalization(epsilon=1e-6)\n",
        "\n",
        "        self.dropout1 = tf.keras.layers.Dropout(rate)\n",
        "        self.dropout2 = tf.keras.layers.Dropout(rate)\n",
        "        self.dropout3 = tf.keras.layers.Dropout(rate)\n",
        "    \n",
        "    \n",
        "    def call(self, x, enc_output, training, look_ahead_mask, padding_mask):\n",
        "        attn1, attn_weights_block1 = self.mha1(x, x, x, look_ahead_mask)\n",
        "        attn1 = self.dropout1(attn1, training=training)\n",
        "        out1 = self.layernorm1(attn1 + x)\n",
        "\n",
        "        attn2, attn_weights_block2 = self.mha2(enc_output, enc_output, out1, padding_mask)\n",
        "        attn2 = self.dropout2(attn2, training=training)\n",
        "        out2 = self.layernorm2(attn2 + out1)\n",
        "\n",
        "        ffn_output = self.ffn(out2)\n",
        "        ffn_output = self.dropout3(ffn_output, training=training)\n",
        "        out3 = self.layernorm3(ffn_output + out2)\n",
        "\n",
        "        return out3, attn_weights_block1, attn_weights_block2"
      ]
    },
    {
      "cell_type": "code",
      "execution_count": null,
      "id": "quarterly-refund",
      "metadata": {
        "execution": {
          "iopub.execute_input": "2021-06-13T12:48:52.112766Z",
          "iopub.status.busy": "2021-06-13T12:48:52.106921Z",
          "iopub.status.idle": "2021-06-13T12:48:52.114764Z",
          "shell.execute_reply": "2021-06-13T12:48:52.115126Z",
          "shell.execute_reply.started": "2021-06-13T11:50:23.245502Z"
        },
        "id": "quarterly-refund",
        "papermill": {
          "duration": 0.043615,
          "end_time": "2021-06-13T12:48:52.115242",
          "exception": false,
          "start_time": "2021-06-13T12:48:52.071627",
          "status": "completed"
        },
        "tags": []
      },
      "outputs": [],
      "source": [
        "class Encoder(tf.keras.layers.Layer):\n",
        "    def __init__(self, num_layers, d_model, num_heads, dff, input_vocab_size, maximum_position_encoding, rate=0.1):\n",
        "        super(Encoder, self).__init__()\n",
        "\n",
        "        self.d_model = d_model\n",
        "        self.num_layers = num_layers\n",
        "\n",
        "        self.embedding = tf.keras.layers.Embedding(input_vocab_size, d_model)\n",
        "        self.pos_encoding = positional_encoding(maximum_position_encoding, self.d_model)\n",
        "\n",
        "        self.enc_layers = [EncoderLayer(d_model, num_heads, dff, rate) for _ in range(num_layers)]\n",
        "\n",
        "        self.dropout = tf.keras.layers.Dropout(rate)\n",
        "        \n",
        "    def call(self, x, training, mask):\n",
        "        seq_len = tf.shape(x)[1]\n",
        "\n",
        "        x = self.embedding(x)\n",
        "        x *= tf.math.sqrt(tf.cast(self.d_model, tf.float32))\n",
        "        x += self.pos_encoding[:, :seq_len, :]\n",
        "\n",
        "        x = self.dropout(x, training=training)\n",
        "    \n",
        "        for i in range(self.num_layers):\n",
        "            x = self.enc_layers[i](x, training, mask)\n",
        "    \n",
        "        return x\n",
        "    \n",
        "class Decoder(tf.keras.layers.Layer):\n",
        "        \n",
        "    def __init__(self, num_layers, d_model, num_heads, dff, target_vocab_size, maximum_position_encoding, rate=0.1):\n",
        "        super(Decoder, self).__init__()\n",
        "\n",
        "        self.d_model = d_model\n",
        "        self.num_layers = num_layers\n",
        "\n",
        "        self.embedding = tf.keras.layers.Embedding(target_vocab_size, d_model)\n",
        "        self.pos_encoding = positional_encoding(maximum_position_encoding, d_model)\n",
        "\n",
        "        self.dec_layers = [DecoderLayer(d_model, num_heads, dff, rate) for _ in range(num_layers)]\n",
        "        self.dropout = tf.keras.layers.Dropout(rate)\n",
        "    \n",
        "    def call(self, x, enc_output, training, look_ahead_mask, padding_mask):\n",
        "        seq_len = tf.shape(x)[1]\n",
        "        attention_weights = {}\n",
        "\n",
        "        x = self.embedding(x)\n",
        "        x *= tf.math.sqrt(tf.cast(self.d_model, tf.float32))\n",
        "        x += self.pos_encoding[:, :seq_len, :]\n",
        "\n",
        "        x = self.dropout(x, training=training)\n",
        "\n",
        "        for i in range(self.num_layers):\n",
        "            x, block1, block2 = self.dec_layers[i](x, enc_output, training, look_ahead_mask, padding_mask)\n",
        "\n",
        "            attention_weights['decoder_layer{}_block1'.format(i+1)] = block1\n",
        "            attention_weights['decoder_layer{}_block2'.format(i+1)] = block2\n",
        "    \n",
        "        return x, attention_weights\n",
        "    "
      ]
    },
    {
      "cell_type": "code",
      "execution_count": null,
      "id": "furnished-tobago",
      "metadata": {
        "execution": {
          "iopub.execute_input": "2021-06-13T12:48:52.177465Z",
          "iopub.status.busy": "2021-06-13T12:48:52.176900Z",
          "iopub.status.idle": "2021-06-13T12:48:52.179869Z",
          "shell.execute_reply": "2021-06-13T12:48:52.179473Z",
          "shell.execute_reply.started": "2021-06-13T11:50:23.263592Z"
        },
        "id": "furnished-tobago",
        "papermill": {
          "duration": 0.036646,
          "end_time": "2021-06-13T12:48:52.179971",
          "exception": false,
          "start_time": "2021-06-13T12:48:52.143325",
          "status": "completed"
        },
        "tags": []
      },
      "outputs": [],
      "source": [
        "class Transformer(tf.keras.Model):\n",
        "    def __init__(self, num_layers, d_model, num_heads, dff, input_vocab_size, target_vocab_size, pe_input, pe_target, rate=0.1):\n",
        "        super(Transformer, self).__init__()\n",
        "\n",
        "        self.encoder = Encoder(num_layers, d_model, num_heads, dff, input_vocab_size, pe_input, rate)\n",
        "\n",
        "        self.decoder = Decoder(num_layers, d_model, num_heads, dff, target_vocab_size, pe_target, rate)\n",
        "\n",
        "        self.final_layer = tf.keras.layers.Dense(target_vocab_size)\n",
        "    \n",
        "    def call(self, inp, tar, training, enc_padding_mask, look_ahead_mask, dec_padding_mask):\n",
        "        enc_output = self.encoder(inp, training, enc_padding_mask)\n",
        "\n",
        "        dec_output, attention_weights = self.decoder(tar, enc_output, training, look_ahead_mask, dec_padding_mask)\n",
        "\n",
        "        final_output = self.final_layer(dec_output)\n",
        "\n",
        "        return final_output, attention_weights"
      ]
    },
    {
      "cell_type": "code",
      "execution_count": null,
      "id": "tribal-housing",
      "metadata": {
        "execution": {
          "iopub.execute_input": "2021-06-13T12:48:52.238642Z",
          "iopub.status.busy": "2021-06-13T12:48:52.238162Z",
          "iopub.status.idle": "2021-06-13T12:48:52.241874Z",
          "shell.execute_reply": "2021-06-13T12:48:52.241466Z",
          "shell.execute_reply.started": "2021-06-13T11:50:23.277967Z"
        },
        "id": "tribal-housing",
        "papermill": {
          "duration": 0.034403,
          "end_time": "2021-06-13T12:48:52.241977",
          "exception": false,
          "start_time": "2021-06-13T12:48:52.207574",
          "status": "completed"
        },
        "tags": []
      },
      "outputs": [],
      "source": [
        "#num_layers = initially was 3, now changing to 6\n",
        "num_layers = 6\n",
        "d_model = 128\n",
        "dff = 512\n",
        "num_heads = 4\n",
        "dropout_rate = 0.2\n",
        "EPOCHS = 15"
      ]
    },
    {
      "cell_type": "markdown",
      "id": "enormous-titanium",
      "metadata": {
        "id": "enormous-titanium",
        "papermill": {
          "duration": 0.027668,
          "end_time": "2021-06-13T12:48:52.297454",
          "exception": false,
          "start_time": "2021-06-13T12:48:52.269786",
          "status": "completed"
        },
        "tags": []
      },
      "source": [
        "# Custom Learning Rate"
      ]
    },
    {
      "cell_type": "code",
      "execution_count": null,
      "id": "undefined-bloom",
      "metadata": {
        "execution": {
          "iopub.execute_input": "2021-06-13T12:48:52.359071Z",
          "iopub.status.busy": "2021-06-13T12:48:52.358419Z",
          "iopub.status.idle": "2021-06-13T12:48:52.360717Z",
          "shell.execute_reply": "2021-06-13T12:48:52.361095Z",
          "shell.execute_reply.started": "2021-06-13T11:50:23.290495Z"
        },
        "id": "undefined-bloom",
        "papermill": {
          "duration": 0.035682,
          "end_time": "2021-06-13T12:48:52.361210",
          "exception": false,
          "start_time": "2021-06-13T12:48:52.325528",
          "status": "completed"
        },
        "tags": []
      },
      "outputs": [],
      "source": [
        "class CustomSchedule(tf.keras.optimizers.schedules.LearningRateSchedule):\n",
        "    def __init__(self, d_model, warmup_steps=4000):\n",
        "        super(CustomSchedule, self).__init__()\n",
        "\n",
        "        self.d_model = d_model\n",
        "        self.d_model = tf.cast(self.d_model, tf.float32)\n",
        "\n",
        "        self.warmup_steps = warmup_steps\n",
        "    \n",
        "    def __call__(self, step):\n",
        "        arg1 = tf.math.rsqrt(step)\n",
        "        arg2 = step * (self.warmup_steps ** -1.5)\n",
        "\n",
        "        return tf.math.rsqrt(self.d_model) * tf.math.minimum(arg1, arg2)"
      ]
    },
    {
      "cell_type": "code",
      "execution_count": null,
      "id": "gorgeous-worcester",
      "metadata": {
        "execution": {
          "iopub.execute_input": "2021-06-13T12:48:52.421039Z",
          "iopub.status.busy": "2021-06-13T12:48:52.420259Z",
          "iopub.status.idle": "2021-06-13T12:48:52.423917Z",
          "shell.execute_reply": "2021-06-13T12:48:52.423495Z",
          "shell.execute_reply.started": "2021-06-13T11:50:23.299917Z"
        },
        "id": "gorgeous-worcester",
        "papermill": {
          "duration": 0.034783,
          "end_time": "2021-06-13T12:48:52.424019",
          "exception": false,
          "start_time": "2021-06-13T12:48:52.389236",
          "status": "completed"
        },
        "tags": []
      },
      "outputs": [],
      "source": [
        "learning_rate = CustomSchedule(d_model)\n",
        "\n",
        "optimizer = tf.keras.optimizers.Adam(learning_rate, beta_1=0.9, beta_2=0.98, epsilon=1e-9)"
      ]
    },
    {
      "cell_type": "code",
      "execution_count": null,
      "id": "hawaiian-competition",
      "metadata": {
        "colab": {
          "base_uri": "https://localhost:8080/",
          "height": 296
        },
        "execution": {
          "iopub.execute_input": "2021-06-13T12:48:52.483477Z",
          "iopub.status.busy": "2021-06-13T12:48:52.482968Z",
          "iopub.status.idle": "2021-06-13T12:48:52.668504Z",
          "shell.execute_reply": "2021-06-13T12:48:52.668067Z",
          "shell.execute_reply.started": "2021-06-13T11:50:23.309156Z"
        },
        "id": "hawaiian-competition",
        "outputId": "cef450cb-95b5-46de-b4c0-2fa402cb4fe7",
        "papermill": {
          "duration": 0.216775,
          "end_time": "2021-06-13T12:48:52.668613",
          "exception": false,
          "start_time": "2021-06-13T12:48:52.451838",
          "status": "completed"
        },
        "tags": []
      },
      "outputs": [
        {
          "data": {
            "text/plain": [
              "Text(0.5, 0, 'Train Step')"
            ]
          },
          "execution_count": 29,
          "metadata": {},
          "output_type": "execute_result"
        },
        {
          "data": {
            "image/png": "[encoded data removed]",
            "text/plain": [
              "<Figure size 432x288 with 1 Axes>"
            ]
          },
          "metadata": {
            "needs_background": "light"
          },
          "output_type": "display_data"
        }
      ],
      "source": [
        "temp_learning_rate_schedule = CustomSchedule(d_model)\n",
        "\n",
        "plt.plot(temp_learning_rate_schedule(tf.range(40000, dtype=tf.float32)))\n",
        "plt.ylabel(\"Learning Rate\")\n",
        "plt.xlabel(\"Train Step\")"
      ]
    },
    {
      "cell_type": "markdown",
      "id": "backed-wheat",
      "metadata": {
        "id": "backed-wheat",
        "papermill": {
          "duration": 0.028704,
          "end_time": "2021-06-13T12:48:52.726889",
          "exception": false,
          "start_time": "2021-06-13T12:48:52.698185",
          "status": "completed"
        },
        "tags": []
      },
      "source": [
        "# Custom Loss and Accuracy"
      ]
    },
    {
      "cell_type": "code",
      "execution_count": null,
      "id": "excessive-poland",
      "metadata": {
        "execution": {
          "iopub.execute_input": "2021-06-13T12:48:52.792353Z",
          "iopub.status.busy": "2021-06-13T12:48:52.791694Z",
          "iopub.status.idle": "2021-06-13T12:48:52.794582Z",
          "shell.execute_reply": "2021-06-13T12:48:52.794961Z",
          "shell.execute_reply.started": "2021-06-13T11:50:23.501981Z"
        },
        "id": "excessive-poland",
        "papermill": {
          "duration": 0.039105,
          "end_time": "2021-06-13T12:48:52.795086",
          "exception": false,
          "start_time": "2021-06-13T12:48:52.755981",
          "status": "completed"
        },
        "tags": []
      },
      "outputs": [],
      "source": [
        "loss_object = tf.keras.losses.SparseCategoricalCrossentropy(from_logits=True, reduction='none')\n",
        "def loss_function(real, pred):\n",
        "    mask = tf.math.logical_not(tf.math.equal(real, 0))\n",
        "    loss_ = loss_object(real, pred)\n",
        "\n",
        "    mask = tf.cast(mask, dtype=loss_.dtype)\n",
        "    loss_ *= mask\n",
        "\n",
        "    return tf.reduce_sum(loss_)/tf.reduce_sum(mask)\n",
        "\n",
        "\n",
        "def accuracy_function(real, pred):\n",
        "    accuracies = tf.equal(real, tf.argmax(pred, axis=2))\n",
        "    #accuracies = tf.cast(accuracies, dtype= tf.float32)\n",
        "\n",
        "    mask = tf.math.logical_not(tf.math.equal(real, 0))\n",
        "    accuracies = tf.math.logical_and(mask, accuracies)\n",
        "\n",
        "    accuracies = tf.cast(accuracies, dtype=tf.float32)\n",
        "    mask = tf.cast(mask, dtype=tf.float32)\n",
        "    return tf.reduce_sum(accuracies)/tf.reduce_sum(mask)"
      ]
    },
    {
      "cell_type": "code",
      "execution_count": null,
      "id": "egyptian-diameter",
      "metadata": {
        "execution": {
          "iopub.execute_input": "2021-06-13T12:48:52.857236Z",
          "iopub.status.busy": "2021-06-13T12:48:52.856696Z",
          "iopub.status.idle": "2021-06-13T12:48:52.876395Z",
          "shell.execute_reply": "2021-06-13T12:48:52.876770Z",
          "shell.execute_reply.started": "2021-06-13T11:50:23.511560Z"
        },
        "id": "egyptian-diameter",
        "papermill": {
          "duration": 0.05257,
          "end_time": "2021-06-13T12:48:52.876892",
          "exception": false,
          "start_time": "2021-06-13T12:48:52.824322",
          "status": "completed"
        },
        "tags": []
      },
      "outputs": [],
      "source": [
        "train_loss = tf.keras.metrics.Mean(name='train_loss')\n",
        "train_accuracy = tf.keras.metrics.Mean(name='train_accuracy')"
      ]
    },
    {
      "cell_type": "code",
      "execution_count": null,
      "id": "swedish-james",
      "metadata": {
        "execution": {
          "iopub.execute_input": "2021-06-13T12:48:52.939814Z",
          "iopub.status.busy": "2021-06-13T12:48:52.939009Z",
          "iopub.status.idle": "2021-06-13T12:48:53.022784Z",
          "shell.execute_reply": "2021-06-13T12:48:53.022364Z",
          "shell.execute_reply.started": "2021-06-13T11:50:23.541173Z"
        },
        "id": "swedish-james",
        "papermill": {
          "duration": 0.117282,
          "end_time": "2021-06-13T12:48:53.022894",
          "exception": false,
          "start_time": "2021-06-13T12:48:52.905612",
          "status": "completed"
        },
        "tags": []
      },
      "outputs": [],
      "source": [
        "transformer = Transformer(\n",
        "    num_layers=num_layers,\n",
        "    d_model=d_model,\n",
        "    num_heads=num_heads,\n",
        "    dff=dff,\n",
        "    input_vocab_size=ENCODER_VOCAB,\n",
        "    target_vocab_size=DECODER_VOCAB,\n",
        "    pe_input=1000,\n",
        "    pe_target=1000,\n",
        "    rate=dropout_rate)"
      ]
    },
    {
      "cell_type": "code",
      "execution_count": null,
      "id": "confused-thanks",
      "metadata": {
        "execution": {
          "iopub.execute_input": "2021-06-13T12:48:53.085049Z",
          "iopub.status.busy": "2021-06-13T12:48:53.084504Z",
          "iopub.status.idle": "2021-06-13T12:48:53.088224Z",
          "shell.execute_reply": "2021-06-13T12:48:53.087821Z",
          "shell.execute_reply.started": "2021-06-13T11:50:23.634382Z"
        },
        "id": "confused-thanks",
        "papermill": {
          "duration": 0.036611,
          "end_time": "2021-06-13T12:48:53.088328",
          "exception": false,
          "start_time": "2021-06-13T12:48:53.051717",
          "status": "completed"
        },
        "tags": []
      },
      "outputs": [],
      "source": [
        "def create_masks(inp, tar):\n",
        "    enc_padding_mask = create_padding_mask(inp)\n",
        "    dec_padding_mask = create_padding_mask(inp)\n",
        "\n",
        "    look_ahead_mask = create_look_ahead_mask(tf.shape(tar)[1])\n",
        "    dec_target_padding_mask = create_padding_mask(tar)\n",
        "    combined_mask = tf.maximum(dec_target_padding_mask, look_ahead_mask)\n",
        "  \n",
        "    return enc_padding_mask, combined_mask, dec_padding_mask"
      ]
    },
    {
      "cell_type": "code",
      "execution_count": null,
      "id": "twenty-pregnancy",
      "metadata": {
        "colab": {
          "base_uri": "https://localhost:8080/"
        },
        "execution": {
          "iopub.execute_input": "2021-06-13T12:48:53.152373Z",
          "iopub.status.busy": "2021-06-13T12:48:53.151769Z",
          "iopub.status.idle": "2021-06-13T12:48:53.154960Z",
          "shell.execute_reply": "2021-06-13T12:48:53.154532Z",
          "shell.execute_reply.started": "2021-06-13T11:50:23.641724Z"
        },
        "id": "twenty-pregnancy",
        "outputId": "e2fc2b7a-94f6-4ce2-8362-86b39f890223",
        "papermill": {
          "duration": 0.038102,
          "end_time": "2021-06-13T12:48:53.155060",
          "exception": false,
          "start_time": "2021-06-13T12:48:53.116958",
          "status": "completed"
        },
        "tags": []
      },
      "outputs": [
        {
          "name": "stdout",
          "output_type": "stream",
          "text": [
            "Latest checkpoint restored!!\n"
          ]
        }
      ],
      "source": [
        "checkpoint_path = \"/content/drive/MyDrive/datasci/model_checkpoints/transformer_summarization_with_tensorflow\"\n",
        "\n",
        "ckpt = tf.train.Checkpoint(transformer=transformer, optimizer=optimizer)\n",
        "\n",
        "ckpt_manager = tf.train.CheckpointManager(ckpt, checkpoint_path, max_to_keep=5)\n",
        "\n",
        "if ckpt_manager.latest_checkpoint:\n",
        "    ckpt.restore(ckpt_manager.latest_checkpoint)\n",
        "    print ('Latest checkpoint restored!!')"
      ]
    },
    {
      "cell_type": "code",
      "execution_count": null,
      "id": "regulation-adaptation",
      "metadata": {
        "execution": {
          "iopub.execute_input": "2021-06-13T12:48:53.218896Z",
          "iopub.status.busy": "2021-06-13T12:48:53.218246Z",
          "iopub.status.idle": "2021-06-13T12:48:53.221020Z",
          "shell.execute_reply": "2021-06-13T12:48:53.220614Z",
          "shell.execute_reply.started": "2021-06-13T11:50:23.652972Z"
        },
        "id": "regulation-adaptation",
        "papermill": {
          "duration": 0.037348,
          "end_time": "2021-06-13T12:48:53.221123",
          "exception": false,
          "start_time": "2021-06-13T12:48:53.183775",
          "status": "completed"
        },
        "tags": []
      },
      "outputs": [],
      "source": [
        "@tf.function\n",
        "def train_step(inp, tar):\n",
        "    tar_inp = tar[:, :-1]\n",
        "    tar_real = tar[:, 1:]\n",
        "\n",
        "    enc_padding_mask, combined_mask, dec_padding_mask = create_masks(inp, tar_inp)\n",
        "\n",
        "    with tf.GradientTape() as tape:\n",
        "        predictions, _ = transformer(\n",
        "            inp, tar_inp, \n",
        "            True, \n",
        "            enc_padding_mask, \n",
        "            combined_mask, \n",
        "            dec_padding_mask\n",
        "        )\n",
        "        loss = loss_function(tar_real, predictions)\n",
        "\n",
        "    gradients = tape.gradient(loss, transformer.trainable_variables)    \n",
        "    optimizer.apply_gradients(zip(gradients, transformer.trainable_variables))\n",
        "\n",
        "    train_loss(loss)\n",
        "    train_accuracy(accuracy_function(tar_real, predictions))"
      ]
    },
    {
      "cell_type": "markdown",
      "id": "reserved-hunter",
      "metadata": {
        "id": "reserved-hunter",
        "papermill": {
          "duration": 0.028671,
          "end_time": "2021-06-13T12:48:53.278668",
          "exception": false,
          "start_time": "2021-06-13T12:48:53.249997",
          "status": "completed"
        },
        "tags": []
      },
      "source": [
        "# Training the Model"
      ]
    },
    {
      "cell_type": "code",
      "execution_count": null,
      "id": "wrapped-startup",
      "metadata": {
        "colab": {
          "base_uri": "https://localhost:8080/"
        },
        "execution": {
          "iopub.execute_input": "2021-06-13T12:48:53.342195Z",
          "iopub.status.busy": "2021-06-13T12:48:53.341436Z",
          "iopub.status.idle": "2021-06-13T13:41:30.886977Z",
          "shell.execute_reply": "2021-06-13T13:41:30.887572Z",
          "shell.execute_reply.started": "2021-06-13T11:50:23.662535Z"
        },
        "id": "wrapped-startup",
        "outputId": "77ef8c5c-d8c3-4325-b2b9-09471ca4a116",
        "papermill": {
          "duration": 3157.58018,
          "end_time": "2021-06-13T13:41:30.887816",
          "exception": false,
          "start_time": "2021-06-13T12:48:53.307636",
          "status": "completed"
        },
        "tags": []
      },
      "outputs": [
        {
          "name": "stdout",
          "output_type": "stream",
          "text": [
            "Epoch 1 Batch 0 Loss 5.6820 Accuracy 0.2195\n",
            "Epoch 1 Batch 100 Loss 5.0517 Accuracy 0.2405\n",
            "Epoch 1 Batch 200 Loss 4.9769 Accuracy 0.2452\n",
            "Epoch 1 Batch 300 Loss 4.9234 Accuracy 0.2504\n",
            "Epoch 1 Batch 400 Loss 4.9004 Accuracy 0.2529\n",
            "Epoch 1 Batch 500 Loss 4.8743 Accuracy 0.2567\n",
            "Epoch 1 Batch 600 Loss 4.8531 Accuracy 0.2603\n",
            "Epoch 1 Batch 700 Loss 4.8229 Accuracy 0.2647\n",
            "Epoch 1 Batch 800 Loss 4.7879 Accuracy 0.2689\n",
            "Epoch 1 Loss 4.7669 Accuracy 0.2713\n",
            "Time taken for 1 epoch: 379.20727825164795 secs\n",
            "\n",
            "Epoch 2 Batch 0 Loss 5.6169 Accuracy 0.2713\n",
            "Epoch 2 Batch 100 Loss 5.0030 Accuracy 0.2686\n",
            "Epoch 2 Batch 200 Loss 4.9243 Accuracy 0.2675\n",
            "Epoch 2 Batch 300 Loss 4.8709 Accuracy 0.2674\n",
            "Epoch 2 Batch 400 Loss 4.8473 Accuracy 0.2674\n",
            "Epoch 2 Batch 500 Loss 4.8249 Accuracy 0.2679\n",
            "Epoch 2 Batch 600 Loss 4.8032 Accuracy 0.2691\n",
            "Epoch 2 Batch 700 Loss 4.7731 Accuracy 0.2707\n",
            "Epoch 2 Batch 800 Loss 4.7383 Accuracy 0.2728\n",
            "Epoch 2 Loss 4.7171 Accuracy 0.2740\n",
            "Time taken for 1 epoch: 366.7911729812622 secs\n",
            "\n",
            "Epoch 3 Batch 0 Loss 5.7308 Accuracy 0.2740\n",
            "Epoch 3 Batch 100 Loss 4.9563 Accuracy 0.2727\n",
            "Epoch 3 Batch 200 Loss 4.8759 Accuracy 0.2721\n",
            "Epoch 3 Batch 300 Loss 4.8208 Accuracy 0.2722\n",
            "Epoch 3 Batch 400 Loss 4.7990 Accuracy 0.2721\n",
            "Epoch 3 Batch 500 Loss 4.7745 Accuracy 0.2725\n",
            "Epoch 3 Batch 600 Loss 4.7520 Accuracy 0.2732\n",
            "Epoch 3 Batch 700 Loss 4.7224 Accuracy 0.2744\n",
            "Epoch 3 Batch 800 Loss 4.6881 Accuracy 0.2757\n",
            "Epoch 3 Loss 4.6684 Accuracy 0.2766\n",
            "Time taken for 1 epoch: 366.847208738327 secs\n",
            "\n",
            "Epoch 4 Batch 0 Loss 5.3753 Accuracy 0.2766\n",
            "Epoch 4 Batch 100 Loss 4.9038 Accuracy 0.2758\n",
            "Epoch 4 Batch 200 Loss 4.8290 Accuracy 0.2754\n",
            "Epoch 4 Batch 300 Loss 4.7764 Accuracy 0.2755\n",
            "Epoch 4 Batch 400 Loss 4.7536 Accuracy 0.2755\n",
            "Epoch 4 Batch 500 Loss 4.7292 Accuracy 0.2758\n",
            "Epoch 4 Batch 600 Loss 4.7064 Accuracy 0.2763\n",
            "Epoch 4 Batch 700 Loss 4.6761 Accuracy 0.2772\n",
            "Epoch 4 Batch 800 Loss 4.6427 Accuracy 0.2783\n",
            "Epoch 4 Loss 4.6236 Accuracy 0.2790\n",
            "Time taken for 1 epoch: 366.6984806060791 secs\n",
            "\n",
            "Epoch 5 Batch 0 Loss 5.1905 Accuracy 0.2790\n",
            "Epoch 5 Batch 100 Loss 4.8683 Accuracy 0.2784\n",
            "Epoch 5 Batch 200 Loss 4.7930 Accuracy 0.2782\n",
            "Epoch 5 Batch 300 Loss 4.7376 Accuracy 0.2782\n",
            "Epoch 5 Batch 400 Loss 4.7138 Accuracy 0.2783\n",
            "Epoch 5 Batch 500 Loss 4.6892 Accuracy 0.2786\n",
            "Epoch 5 Batch 600 Loss 4.6639 Accuracy 0.2791\n",
            "Epoch 5 Batch 700 Loss 4.6339 Accuracy 0.2798\n",
            "Epoch 5 Batch 800 Loss 4.5999 Accuracy 0.2808\n",
            "Saving checkpoint for epoch 5 at /content/drive/MyDrive/datasci/model_checkpoints/transformer_summarization_with_tensorflow/ckpt-4\n",
            "Epoch 5 Loss 4.5805 Accuracy 0.2813\n",
            "Time taken for 1 epoch: 367.83876180648804 secs\n",
            "\n",
            "Epoch 6 Batch 0 Loss 5.2929 Accuracy 0.2813\n",
            "Epoch 6 Batch 100 Loss 4.8208 Accuracy 0.2809\n",
            "Epoch 6 Batch 200 Loss 4.7471 Accuracy 0.2808\n",
            "Epoch 6 Batch 300 Loss 4.6944 Accuracy 0.2808\n",
            "Epoch 6 Batch 400 Loss 4.6721 Accuracy 0.2809\n",
            "Epoch 6 Batch 500 Loss 4.6453 Accuracy 0.2812\n",
            "Epoch 6 Batch 600 Loss 4.6236 Accuracy 0.2816\n",
            "Epoch 6 Batch 700 Loss 4.5947 Accuracy 0.2823\n",
            "Epoch 6 Batch 800 Loss 4.5615 Accuracy 0.2831\n",
            "Epoch 6 Loss 4.5424 Accuracy 0.2836\n",
            "Time taken for 1 epoch: 366.9347631931305 secs\n",
            "\n",
            "Epoch 7 Batch 0 Loss 5.2162 Accuracy 0.2836\n",
            "Epoch 7 Batch 100 Loss 4.7908 Accuracy 0.2832\n",
            "Epoch 7 Batch 200 Loss 4.7201 Accuracy 0.2831\n",
            "Epoch 7 Batch 300 Loss 4.6616 Accuracy 0.2832\n",
            "Epoch 7 Batch 400 Loss 4.6368 Accuracy 0.2833\n",
            "Epoch 7 Batch 500 Loss 4.6108 Accuracy 0.2836\n",
            "Epoch 7 Batch 600 Loss 4.5890 Accuracy 0.2840\n",
            "Epoch 7 Batch 700 Loss 4.5588 Accuracy 0.2846\n",
            "Epoch 7 Batch 800 Loss 4.5242 Accuracy 0.2852\n",
            "Epoch 7 Loss 4.5055 Accuracy 0.2857\n",
            "Time taken for 1 epoch: 367.03311252593994 secs\n",
            "\n",
            "Epoch 8 Batch 0 Loss 5.3063 Accuracy 0.2857\n",
            "Epoch 8 Batch 100 Loss 4.7647 Accuracy 0.2855\n",
            "Epoch 8 Batch 200 Loss 4.6892 Accuracy 0.2854\n",
            "Epoch 8 Batch 300 Loss 4.6302 Accuracy 0.2855\n",
            "Epoch 8 Batch 400 Loss 4.6074 Accuracy 0.2856\n",
            "Epoch 8 Batch 500 Loss 4.5802 Accuracy 0.2859\n",
            "Epoch 8 Batch 600 Loss 4.5570 Accuracy 0.2862\n",
            "Epoch 8 Batch 700 Loss 4.5271 Accuracy 0.2868\n",
            "Epoch 8 Batch 800 Loss 4.4931 Accuracy 0.2874\n",
            "Epoch 8 Loss 4.4740 Accuracy 0.2878\n",
            "Time taken for 1 epoch: 366.9095129966736 secs\n",
            "\n",
            "Epoch 9 Batch 0 Loss 5.3770 Accuracy 0.2878\n",
            "Epoch 9 Batch 100 Loss 4.7256 Accuracy 0.2876\n",
            "Epoch 9 Batch 200 Loss 4.6492 Accuracy 0.2876\n",
            "Epoch 9 Batch 300 Loss 4.5914 Accuracy 0.2877\n",
            "Epoch 9 Batch 400 Loss 4.5668 Accuracy 0.2878\n",
            "Epoch 9 Batch 500 Loss 4.5420 Accuracy 0.2881\n",
            "Epoch 9 Batch 600 Loss 4.5200 Accuracy 0.2884\n",
            "Epoch 9 Batch 700 Loss 4.4897 Accuracy 0.2889\n",
            "Epoch 9 Batch 800 Loss 4.4576 Accuracy 0.2895\n",
            "Epoch 9 Loss 4.4390 Accuracy 0.2899\n",
            "Time taken for 1 epoch: 366.7620620727539 secs\n",
            "\n",
            "Epoch 10 Batch 0 Loss 5.2392 Accuracy 0.2899\n",
            "Epoch 10 Batch 100 Loss 4.6863 Accuracy 0.2897\n",
            "Epoch 10 Batch 200 Loss 4.6192 Accuracy 0.2897\n",
            "Epoch 10 Batch 300 Loss 4.5616 Accuracy 0.2899\n",
            "Epoch 10 Batch 400 Loss 4.5378 Accuracy 0.2900\n",
            "Epoch 10 Batch 500 Loss 4.5112 Accuracy 0.2902\n",
            "Epoch 10 Batch 600 Loss 4.4885 Accuracy 0.2906\n",
            "Epoch 10 Batch 700 Loss 4.4587 Accuracy 0.2910\n",
            "Epoch 10 Batch 800 Loss 4.4261 Accuracy 0.2916\n",
            "Saving checkpoint for epoch 10 at /content/drive/MyDrive/datasci/model_checkpoints/transformer_summarization_with_tensorflow/ckpt-5\n",
            "Epoch 10 Loss 4.4078 Accuracy 0.2919\n",
            "Time taken for 1 epoch: 368.54402899742126 secs\n",
            "\n",
            "Epoch 11 Batch 0 Loss 5.0818 Accuracy 0.2919\n",
            "Epoch 11 Batch 100 Loss 4.6538 Accuracy 0.2918\n",
            "Epoch 11 Batch 200 Loss 4.5817 Accuracy 0.2918\n",
            "Epoch 11 Batch 300 Loss 4.5267 Accuracy 0.2919\n",
            "Epoch 11 Batch 400 Loss 4.5062 Accuracy 0.2920\n",
            "Epoch 11 Batch 500 Loss 4.4830 Accuracy 0.2923\n",
            "Epoch 11 Batch 600 Loss 4.4591 Accuracy 0.2926\n",
            "Epoch 11 Batch 700 Loss 4.4297 Accuracy 0.2930\n",
            "Epoch 11 Batch 800 Loss 4.3963 Accuracy 0.2935\n",
            "Epoch 11 Loss 4.3776 Accuracy 0.2938\n",
            "Time taken for 1 epoch: 367.2176208496094 secs\n",
            "\n",
            "Epoch 12 Batch 0 Loss 5.0725 Accuracy 0.2938\n",
            "Epoch 12 Batch 100 Loss 4.6270 Accuracy 0.2937\n",
            "Epoch 12 Batch 200 Loss 4.5559 Accuracy 0.2938\n",
            "Epoch 12 Batch 300 Loss 4.5012 Accuracy 0.2939\n",
            "Epoch 12 Batch 400 Loss 4.4767 Accuracy 0.2940\n",
            "Epoch 12 Batch 500 Loss 4.4537 Accuracy 0.2943\n",
            "Epoch 12 Batch 600 Loss 4.4323 Accuracy 0.2946\n",
            "Epoch 12 Batch 700 Loss 4.4035 Accuracy 0.2950\n",
            "Epoch 12 Batch 800 Loss 4.3702 Accuracy 0.2954\n",
            "Epoch 12 Loss 4.3519 Accuracy 0.2957\n",
            "Time taken for 1 epoch: 366.95914220809937 secs\n",
            "\n",
            "Epoch 13 Batch 0 Loss 5.4653 Accuracy 0.2957\n",
            "Epoch 13 Batch 100 Loss 4.6023 Accuracy 0.2956\n",
            "Epoch 13 Batch 200 Loss 4.5382 Accuracy 0.2957\n",
            "Epoch 13 Batch 300 Loss 4.4844 Accuracy 0.2958\n",
            "Epoch 13 Batch 400 Loss 4.4593 Accuracy 0.2959\n",
            "Epoch 13 Batch 500 Loss 4.4303 Accuracy 0.2962\n",
            "Epoch 13 Batch 600 Loss 4.4068 Accuracy 0.2965\n",
            "Epoch 13 Batch 700 Loss 4.3766 Accuracy 0.2968\n",
            "Epoch 13 Batch 800 Loss 4.3445 Accuracy 0.2973\n",
            "Epoch 13 Loss 4.3259 Accuracy 0.2976\n",
            "Time taken for 1 epoch: 367.0627737045288 secs\n",
            "\n",
            "Epoch 14 Batch 0 Loss 5.0535 Accuracy 0.2976\n",
            "Epoch 14 Batch 100 Loss 4.5844 Accuracy 0.2975\n",
            "Epoch 14 Batch 200 Loss 4.5058 Accuracy 0.2976\n",
            "Epoch 14 Batch 300 Loss 4.4527 Accuracy 0.2977\n",
            "Epoch 14 Batch 400 Loss 4.4300 Accuracy 0.2978\n",
            "Epoch 14 Batch 500 Loss 4.4046 Accuracy 0.2980\n",
            "Epoch 14 Batch 600 Loss 4.3816 Accuracy 0.2983\n",
            "Epoch 14 Batch 700 Loss 4.3518 Accuracy 0.2987\n",
            "Epoch 14 Batch 800 Loss 4.3172 Accuracy 0.2991\n",
            "Epoch 14 Loss 4.2993 Accuracy 0.2994\n",
            "Time taken for 1 epoch: 366.9722988605499 secs\n",
            "\n",
            "Epoch 15 Batch 0 Loss 5.1782 Accuracy 0.2994\n",
            "Epoch 15 Batch 100 Loss 4.5495 Accuracy 0.2993\n",
            "Epoch 15 Batch 200 Loss 4.4751 Accuracy 0.2994\n",
            "Epoch 15 Batch 300 Loss 4.4244 Accuracy 0.2995\n",
            "Epoch 15 Batch 400 Loss 4.4004 Accuracy 0.2997\n",
            "Epoch 15 Batch 500 Loss 4.3745 Accuracy 0.2999\n",
            "Epoch 15 Batch 600 Loss 4.3502 Accuracy 0.3001\n",
            "Epoch 15 Batch 700 Loss 4.3209 Accuracy 0.3005\n",
            "Epoch 15 Batch 800 Loss 4.2863 Accuracy 0.3009\n",
            "Saving checkpoint for epoch 15 at /content/drive/MyDrive/datasci/model_checkpoints/transformer_summarization_with_tensorflow/ckpt-6\n",
            "Epoch 15 Loss 4.2693 Accuracy 0.3012\n",
            "Time taken for 1 epoch: 368.5865707397461 secs\n",
            "\n"
          ]
        }
      ],
      "source": [
        "for epoch in range(EPOCHS):\n",
        "    start = time.time()\n",
        "\n",
        "    train_loss.reset_states()\n",
        "  \n",
        "    for (batch, (inp, tar)) in enumerate(dataset):\n",
        "        train_step(inp, tar)\n",
        "    \n",
        "        if batch % 100 == 0:\n",
        "            print(f'Epoch {epoch + 1} Batch {batch} Loss {train_loss.result():.4f} Accuracy {train_accuracy.result():.4f}')\n",
        "      \n",
        "    if (epoch + 1) % 5 == 0:\n",
        "        ckpt_save_path = ckpt_manager.save()\n",
        "        print ('Saving checkpoint for epoch {} at {}'.format(epoch+1, ckpt_save_path))\n",
        "   \n",
        "    print(f'Epoch {epoch + 1} Loss {train_loss.result():.4f} Accuracy {train_accuracy.result():.4f}')\n",
        "    print ('Time taken for 1 epoch: {} secs\\n'.format(time.time() - start))"
      ]
    },
    {
      "cell_type": "markdown",
      "id": "equipped-petite",
      "metadata": {
        "id": "equipped-petite",
        "papermill": {
          "duration": 0.065931,
          "end_time": "2021-06-13T13:41:31.020329",
          "exception": false,
          "start_time": "2021-06-13T13:41:30.954398",
          "status": "completed"
        },
        "tags": []
      },
      "source": [
        "# Evaluation"
      ]
    },
    {
      "cell_type": "code",
      "execution_count": null,
      "id": "hired-fantasy",
      "metadata": {
        "execution": {
          "iopub.execute_input": "2021-06-13T13:41:31.159483Z",
          "iopub.status.busy": "2021-06-13T13:41:31.158983Z",
          "iopub.status.idle": "2021-06-13T13:41:31.162675Z",
          "shell.execute_reply": "2021-06-13T13:41:31.162287Z",
          "shell.execute_reply.started": "2021-06-13T12:40:19.759571Z"
        },
        "id": "hired-fantasy",
        "papermill": {
          "duration": 0.076896,
          "end_time": "2021-06-13T13:41:31.162795",
          "exception": false,
          "start_time": "2021-06-13T13:41:31.085899",
          "status": "completed"
        },
        "tags": []
      },
      "outputs": [],
      "source": [
        "def evaluate(input_article):\n",
        "    input_article = article_tokenizer.texts_to_sequences([input_article])\n",
        "    input_article = tf.keras.preprocessing.sequence.pad_sequences(input_article, maxlen=ENCODER_LEN, \n",
        "                                                                   padding='post', truncating='post')\n",
        "\n",
        "    encoder_input = tf.expand_dims(input_article[0], 0)\n",
        "\n",
        "    decoder_input = [summary_tokenizer.word_index['<sos>']]\n",
        "    output = tf.expand_dims(decoder_input, 0)\n",
        "    \n",
        "    for i in range(DECODER_LEN):\n",
        "        enc_padding_mask, combined_mask, dec_padding_mask = create_masks(encoder_input, output)\n",
        "\n",
        "        predictions, attention_weights = transformer(\n",
        "            encoder_input, \n",
        "            output,\n",
        "            False,\n",
        "            enc_padding_mask,\n",
        "            combined_mask,\n",
        "            dec_padding_mask\n",
        "        )\n",
        "\n",
        "        predictions = predictions[: ,-1:, :]\n",
        "        predicted_id = tf.cast(tf.argmax(predictions, axis=-1), tf.int32)\n",
        "\n",
        "        if predicted_id == summary_tokenizer.word_index['<eos>']:\n",
        "            return tf.squeeze(output, axis=0), attention_weights\n",
        "\n",
        "        output = tf.concat([output, predicted_id], axis=-1)\n",
        "\n",
        "    return tf.squeeze(output, axis=0), attention_weights"
      ]
    },
    {
      "cell_type": "code",
      "execution_count": null,
      "id": "decent-public",
      "metadata": {
        "execution": {
          "iopub.execute_input": "2021-06-13T13:41:31.299231Z",
          "iopub.status.busy": "2021-06-13T13:41:31.298709Z",
          "iopub.status.idle": "2021-06-13T13:41:31.302380Z",
          "shell.execute_reply": "2021-06-13T13:41:31.301996Z",
          "shell.execute_reply.started": "2021-06-13T12:40:19.771402Z"
        },
        "id": "decent-public",
        "papermill": {
          "duration": 0.07269,
          "end_time": "2021-06-13T13:41:31.302481",
          "exception": false,
          "start_time": "2021-06-13T13:41:31.229791",
          "status": "completed"
        },
        "tags": []
      },
      "outputs": [],
      "source": [
        "def summarize(input_article):\n",
        "    summarized = evaluate(input_article=input_article)[0].numpy()\n",
        "    summarized = np.expand_dims(summarized[1:], 0)  \n",
        "    return summary_tokenizer.sequences_to_texts(summarized)[0]"
      ]
    },
    {
      "cell_type": "markdown",
      "id": "personalized-cheat",
      "metadata": {
        "id": "personalized-cheat",
        "papermill": {
          "duration": 0.065367,
          "end_time": "2021-06-13T13:41:31.432970",
          "exception": false,
          "start_time": "2021-06-13T13:41:31.367603",
          "status": "completed"
        },
        "tags": []
      },
      "source": [
        "# Predictions\n",
        "\n",
        "Below me make predictions on some texts to see how the model is performimg. Since this was a very basic approach the model wont perform that well but it can surely be improved."
      ]
    },
    {
      "cell_type": "code",
      "execution_count": null,
      "id": "searching-ethnic",
      "metadata": {
        "colab": {
          "base_uri": "https://localhost:8080/",
          "height": 70
        },
        "execution": {
          "iopub.execute_input": "2021-06-13T13:41:31.567479Z",
          "iopub.status.busy": "2021-06-13T13:41:31.566991Z",
          "iopub.status.idle": "2021-06-13T13:41:31.572405Z",
          "shell.execute_reply": "2021-06-13T13:41:31.572021Z",
          "shell.execute_reply.started": "2021-06-13T12:46:51.814311Z"
        },
        "id": "searching-ethnic",
        "outputId": "f593cdb4-e1fb-42df-ca47-b83ebd178959",
        "papermill": {
          "duration": 0.074356,
          "end_time": "2021-06-13T13:41:31.572505",
          "exception": false,
          "start_time": "2021-06-13T13:41:31.498149",
          "status": "completed"
        },
        "tags": []
      },
      "outputs": [
        {
          "data": {
            "application/vnd.google.colaboratory.intrinsic+json": {
              "type": "string"
            },
            "text/plain": [
              "'<SOS> A new trailer for the upcoming superhero film  Justice League  was released on Saturday. Based on the DC Comics superhero team, the film stars Ben Affleck as  Batman , Gal Gadot as  Wonder Woman , Ezra Miller as  The Flash  and Jason Momoa as  Aquaman . Directed by Zack Snyder, the film is scheduled to release on November 17, 2017. <EOS>'"
            ]
          },
          "execution_count": 39,
          "metadata": {},
          "output_type": "execute_result"
        }
      ],
      "source": [
        "article[5]"
      ]
    },
    {
      "cell_type": "code",
      "execution_count": null,
      "id": "thousand-gambling",
      "metadata": {
        "colab": {
          "base_uri": "https://localhost:8080/"
        },
        "execution": {
          "iopub.execute_input": "2021-06-13T13:41:31.835632Z",
          "iopub.status.busy": "2021-06-13T13:41:31.834763Z",
          "iopub.status.idle": "2021-06-13T13:41:32.971989Z",
          "shell.execute_reply": "2021-06-13T13:41:32.972834Z",
          "shell.execute_reply.started": "2021-06-13T12:47:18.822118Z"
        },
        "id": "thousand-gambling",
        "outputId": "d088e53d-12c9-4742-e475-df19e7e56c95",
        "papermill": {
          "duration": 1.315627,
          "end_time": "2021-06-13T13:41:32.972995",
          "exception": false,
          "start_time": "2021-06-13T13:41:31.657368",
          "status": "completed"
        },
        "tags": []
      },
      "outputs": [
        {
          "name": "stdout",
          "output_type": "stream",
          "text": [
            "Real Headline :   New trailer of  Justice League  released  \n",
            " Predicted Summary :  teaser of justice league released\n"
          ]
        }
      ],
      "source": [
        "print(\"Real Headline : \", summary[5][5:-5],\"\\n Predicted Summary : \", summarize(article[5]))"
      ]
    },
    {
      "cell_type": "code",
      "execution_count": null,
      "id": "welcome-rental",
      "metadata": {
        "colab": {
          "base_uri": "https://localhost:8080/",
          "height": 70
        },
        "execution": {
          "iopub.execute_input": "2021-06-13T13:41:33.113925Z",
          "iopub.status.busy": "2021-06-13T13:41:33.113373Z",
          "iopub.status.idle": "2021-06-13T13:41:33.119071Z",
          "shell.execute_reply": "2021-06-13T13:41:33.118631Z",
          "shell.execute_reply.started": "2021-06-13T12:47:38.654362Z"
        },
        "id": "welcome-rental",
        "outputId": "949ef4a6-d6d0-446b-8e0b-7e6f65ff807c",
        "papermill": {
          "duration": 0.077601,
          "end_time": "2021-06-13T13:41:33.119175",
          "exception": false,
          "start_time": "2021-06-13T13:41:33.041574",
          "status": "completed"
        },
        "tags": []
      },
      "outputs": [
        {
          "data": {
            "application/vnd.google.colaboratory.intrinsic+json": {
              "type": "string"
            },
            "text/plain": [
              "'<SOS> As a part of an education initiative, the entire Wankhede Stadium will be reserved for underprivileged children for the IPL 2017 match between Mumbai Indians and Gujarat Lions, to be held on April 16. A statement by the Mumbai Indians read that they will not be selling any stand tickets for the team s third home game, against the Gujarat Lions. <EOS>'"
            ]
          },
          "execution_count": 41,
          "metadata": {},
          "output_type": "execute_result"
        }
      ],
      "source": [
        "article[16]"
      ]
    },
    {
      "cell_type": "code",
      "execution_count": null,
      "id": "selective-retailer",
      "metadata": {
        "colab": {
          "base_uri": "https://localhost:8080/"
        },
        "execution": {
          "iopub.execute_input": "2021-06-13T13:41:33.257654Z",
          "iopub.status.busy": "2021-06-13T13:41:33.256784Z",
          "iopub.status.idle": "2021-06-13T13:41:33.788095Z",
          "shell.execute_reply": "2021-06-13T13:41:33.787658Z",
          "shell.execute_reply.started": "2021-06-13T12:47:35.568548Z"
        },
        "id": "selective-retailer",
        "outputId": "78658d1f-01aa-485f-a485-def6746bd3c1",
        "papermill": {
          "duration": 0.602041,
          "end_time": "2021-06-13T13:41:33.788215",
          "exception": false,
          "start_time": "2021-06-13T13:41:33.186174",
          "status": "completed"
        },
        "tags": []
      },
      "outputs": [
        {
          "name": "stdout",
          "output_type": "stream",
          "text": [
            "Real Headline :   Underprivileged kids to fill Wankhede during MI s IPL match  \n",
            "Predicted Summary :  pune s ipl team to get free school in mumbai\n"
          ]
        }
      ],
      "source": [
        "print(\"Real Headline : \", summary[16][5:-5],\"\\nPredicted Summary : \", summarize(article[16]))"
      ]
    },
    {
      "cell_type": "code",
      "execution_count": null,
      "id": "clear-demand",
      "metadata": {
        "colab": {
          "base_uri": "https://localhost:8080/",
          "height": 70
        },
        "execution": {
          "iopub.execute_input": "2021-06-13T13:41:33.927416Z",
          "iopub.status.busy": "2021-06-13T13:41:33.926925Z",
          "iopub.status.idle": "2021-06-13T13:41:33.932515Z",
          "shell.execute_reply": "2021-06-13T13:41:33.932099Z",
          "shell.execute_reply.started": "2021-06-13T12:47:41.369372Z"
        },
        "id": "clear-demand",
        "outputId": "012c59a3-9ebf-452b-e7b3-6825591fdc34",
        "papermill": {
          "duration": 0.075806,
          "end_time": "2021-06-13T13:41:33.932624",
          "exception": false,
          "start_time": "2021-06-13T13:41:33.856818",
          "status": "completed"
        },
        "tags": []
      },
      "outputs": [
        {
          "data": {
            "application/vnd.google.colaboratory.intrinsic+json": {
              "type": "string"
            },
            "text/plain": [
              "'<SOS> Uttar Pradesh s Deputy Chief Minister Dinesh Sharma on Saturday said that a transparent system to end cheating in the state board exams will be brought in.  Every department and organisation concerned has been given instructions and I am personally monitoring it,  he added. This comes after class X students were caught mass cheating on camera at a Ballia school. <EOS>'"
            ]
          },
          "execution_count": 43,
          "metadata": {},
          "output_type": "execute_result"
        }
      ],
      "source": [
        "article[23]"
      ]
    },
    {
      "cell_type": "code",
      "execution_count": null,
      "id": "suitable-hometown",
      "metadata": {
        "colab": {
          "base_uri": "https://localhost:8080/"
        },
        "execution": {
          "iopub.execute_input": "2021-06-13T13:41:34.072610Z",
          "iopub.status.busy": "2021-06-13T13:41:34.071764Z",
          "iopub.status.idle": "2021-06-13T13:41:34.598719Z",
          "shell.execute_reply": "2021-06-13T13:41:34.598138Z",
          "shell.execute_reply.started": "2021-06-13T12:47:45.693891Z"
        },
        "id": "suitable-hometown",
        "outputId": "e483c02d-5d95-44f4-af3f-485e278ec84c",
        "papermill": {
          "duration": 0.59851,
          "end_time": "2021-06-13T13:41:34.598894",
          "exception": false,
          "start_time": "2021-06-13T13:41:34.000384",
          "status": "completed"
        },
        "tags": []
      },
      "outputs": [
        {
          "name": "stdout",
          "output_type": "stream",
          "text": [
            "Real Headline :   UP govt assures transparent system to end cheating in exams  \n",
            "Predicted Summary :  up govt to give up notice to up govt over beef ban\n"
          ]
        }
      ],
      "source": [
        "print(\"Real Headline : \", summary[23][5:-5],\"\\nPredicted Summary : \", summarize(article[23]))"
      ]
    }
  ],
  "metadata": {
    "accelerator": "GPU",
    "colab": {
      "collapsed_sections": [],
      "name": "Transformer Summarization with Tensorflow.ipynb",
      "provenance": []
    },
    "gpuClass": "standard",
    "kernelspec": {
      "display_name": "Python 3",
      "language": "python",
      "name": "python3"
    },
    "language_info": {
      "codemirror_mode": {
        "name": "ipython",
        "version": 3
      },
      "file_extension": ".py",
      "mimetype": "text/x-python",
      "name": "python",
      "nbconvert_exporter": "python",
      "pygments_lexer": "ipython3",
      "version": "3.7.10"
    },
    "papermill": {
      "default_parameters": {},
      "duration": 3205.814999,
      "end_time": "2021-06-13T13:41:37.565408",
      "environment_variables": {},
      "exception": null,
      "input_path": "__notebook__.ipynb",
      "output_path": "__notebook__.ipynb",
      "parameters": {},
      "start_time": "2021-06-13T12:48:11.750409",
      "version": "2.3.3"
    }
  },
  "nbformat": 4,
  "nbformat_minor": 5
}
